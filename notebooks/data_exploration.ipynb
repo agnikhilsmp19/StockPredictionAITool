{
 "cells": [
  {
   "cell_type": "code",
   "execution_count": null,
   "id": "85bbb2f2",
   "metadata": {
    "vscode": {
     "languageId": "plaintext"
    }
   },
   "outputs": [],
   "source": [
    "import pandas as pd\n",
    "import matplotlib.pyplot as plt\n",
    "\n",
    "data = pd.read_csv(\"../data/raw/INFY.csv\", index_col=0, parse_dates=True)\n",
    "#print(data.describe())\n",
    "\n",
    "# Plot closing price trend\n",
    "data['Close'].plot(figsize=(10,5), title=\"INFY Closing Price\")\n",
    "plt.show()\n"
   ]
  }
 ],
 "metadata": {
  "language_info": {
   "name": "python"
  }
 },
 "nbformat": 4,
 "nbformat_minor": 5
}
